{
 "cells": [
  {
   "cell_type": "markdown",
   "id": "516c3baa",
   "metadata": {},
   "source": [
    "### IMPORTACION DE LIBRERIAS"
   ]
  },
  {
   "cell_type": "code",
   "execution_count": 2,
   "id": "eb4b5452",
   "metadata": {},
   "outputs": [
    {
     "ename": "ModuleNotFoundError",
     "evalue": "No module named 'pandas'",
     "output_type": "error",
     "traceback": [
      "\u001b[31m---------------------------------------------------------------------------\u001b[39m",
      "\u001b[31mModuleNotFoundError\u001b[39m                       Traceback (most recent call last)",
      "\u001b[36mCell\u001b[39m\u001b[36m \u001b[39m\u001b[32mIn[2]\u001b[39m\u001b[32m, line 1\u001b[39m\n\u001b[32m----> \u001b[39m\u001b[32m1\u001b[39m \u001b[38;5;28;01mimport\u001b[39;00m\u001b[38;5;250m \u001b[39m\u001b[34;01mpandas\u001b[39;00m\u001b[38;5;250m \u001b[39m\u001b[38;5;28;01mas\u001b[39;00m\u001b[38;5;250m \u001b[39m\u001b[34;01mpd\u001b[39;00m \n\u001b[32m      2\u001b[39m \u001b[38;5;28;01mimport\u001b[39;00m\u001b[38;5;250m \u001b[39m\u001b[34;01mnumpy\u001b[39;00m\u001b[38;5;250m \u001b[39m\u001b[38;5;28;01mas\u001b[39;00m\u001b[38;5;250m \u001b[39m\u001b[34;01mnp\u001b[39;00m\n\u001b[32m      3\u001b[39m \u001b[38;5;28;01mimport\u001b[39;00m\u001b[38;5;250m \u001b[39m\u001b[34;01mmatplotlib\u001b[39;00m\u001b[34;01m.\u001b[39;00m\u001b[34;01mpylot\u001b[39;00m\u001b[38;5;250m \u001b[39m\u001b[38;5;28;01mas\u001b[39;00m\u001b[38;5;250m \u001b[39m\u001b[34;01mplt\u001b[39;00m\n",
      "\u001b[31mModuleNotFoundError\u001b[39m: No module named 'pandas'"
     ]
    }
   ],
   "source": [
    "import pandas as pd \n",
    "import numpy as np\n",
    "import matplotlib.pylot as plt\n",
    "from sklearn.linear_model import LinearRegression"
   ]
  },
  {
   "cell_type": "markdown",
   "id": "12fecf5a",
   "metadata": {},
   "source": [
    "### CREACION DE DATOS EN DICCIONARIOS Y/O ARRAYS\n",
    "### LUEGO SE UTILIZA PANDAS PARA ORDENAR LOS DATOS"
   ]
  },
  {
   "cell_type": "code",
   "execution_count": null,
   "id": "9ec375c0",
   "metadata": {},
   "outputs": [],
   "source": [
    "ventas = {\n",
    "    'Mes': ['2024-01', '2024-02', '2024-03', '2024-04', '2024-05', '2024-06', '2024-07', '2024-08', '2024-09', '2024-10', '2024-11', '2024-12'],\n",
    "    'Ventas': [125, 128, 124, 122, 123, 126, 123, 127, 124, 125, 125, 129]\n",
    "}\n",
    "df = pd.DataFrame(ventas) # Creamos el DataFrame con pandas\n",
    "df['Mes'] = pd.to_datetime(df['Mes']) # Convierte la columna 'Mes' en una columna de fechas\n",
    "df.set_index('Mes', inplace=True) # Establece la columna 'Mes' como el índice"
   ]
  },
  {
   "cell_type": "markdown",
   "id": "73c77c92",
   "metadata": {},
   "source": [
    "### UTILIZAMOS NUMPY CON VARIABLES CREADAS PARA LEER LOS DATOS ORDENADOS\n",
    "### PARA LUEGO ENTRENAR EL MODELO DE ALGORITMO REGRESION LINEAL  "
   ]
  },
  {
   "cell_type": "code",
   "execution_count": null,
   "id": "863b82b7",
   "metadata": {},
   "outputs": [],
   "source": [
    "x = np.arange(len(df)).reshape(-1, 1) # Creamos una matriz de 12 filas y 1 columna\n",
    "y = df['Ventas'].values # Creamos un vector de 12 elementos con las ventas\n",
    "model_rl = LinearRegression() # Creamos un modelo de regresión lineal\n",
    "model_rl.fit(x, y) # Entrenamos el modelo con los datos"
   ]
  },
  {
   "cell_type": "markdown",
   "id": "09e78f84",
   "metadata": {},
   "source": [
    "### CREAR VARIABALES PARA HACER PREDICCIONES CON EL ENTRENAMIENTO DEL ALGORITMO"
   ]
  },
  {
   "cell_type": "code",
   "execution_count": null,
   "id": "41df6063",
   "metadata": {},
   "outputs": [],
   "source": [
    "x_pred = np.array([11, 12, 13, 14]).reshape(-1, 1) # Creamos una matriz de 1 fila y 1 columna\n",
    "predicciones = model_rl.predict(x_pred) # Predicimos las ventas para el mes 13"
   ]
  },
  {
   "cell_type": "markdown",
   "id": "4659c3d1",
   "metadata": {},
   "source": [
    "### CREACION DE DATAFRAME PARA ALMACENAR PREDICCIONES USANDO PANDAS"
   ]
  },
  {
   "cell_type": "code",
   "execution_count": null,
   "id": "05c2a0db",
   "metadata": {},
   "outputs": [],
   "source": [
    "fechas_pred = pd.date_range(start='2025-01-01', periods=3, freq='MS') # Creamos una serie de fechas para los próximos 3 meses\n",
    "df_pred = pd.DataFrame({'Mes': fechas_pred, 'Ventas':np.round(predicciones)}) # \n",
    "df_pred.set_index('Mes', inplace=True) # \n",
    "df_completo = pd.concat([df, df_pred]) # Concatenamos el DataFrame original con el DataFrame de predicciones\n"
   ]
  },
  {
   "cell_type": "markdown",
   "id": "2dc99816",
   "metadata": {},
   "source": [
    "### GRAFICAR LOS DATOS GENERADOS USANDO MATPLOT.LIB"
   ]
  },
  {
   "cell_type": "code",
   "execution_count": null,
   "id": "78875e2e",
   "metadata": {},
   "outputs": [],
   "source": [
    "plt.figure(figsize=(12, 6)) # Creamos una figura de 12x6 pulgadas para etiquetas\n",
    "plt.plot(df.index, df['Ventas'], label='Ventas reales 2024', color='blue', marker='o') # Graficamos las ventas reales\n",
    "for i in df.index: # Iteramos sobre las fechas\n",
    "    plt.text(i, df.loc[i, 'Ventas'] + 0.5, str(round(df.loc[i, 'Ventas'])),ha='center', fontsize=9, color='blue') # Agregamos las etiquetas con las ventas reales"
   ]
  },
  {
   "cell_type": "markdown",
   "id": "e6e65e2c",
   "metadata": {},
   "source": [
    "### GRAFICAR PREDICCIONES USANDO MATPLOT.LIB"
   ]
  },
  {
   "cell_type": "code",
   "execution_count": null,
   "id": "2807360f",
   "metadata": {},
   "outputs": [],
   "source": [
    "plt.plot(df_pred.index, df_pred['Ventas'], label='Predicciones 2025', color='red', marker='x', linestyle='dashed') # Graficamos las predicciones\n",
    "for i in df_pred.index: # Iteramos sobre las fechas\n",
    "    plt.text(i, df_pred.loc[i, 'Ventas'] - 0.5, str(round(df_pred.loc[i, 'Ventas'])),ha='center', fontsize=9, color='red') # Agregamos las etiquetas con las predicciones"
   ]
  },
  {
   "cell_type": "markdown",
   "id": "ada5d60f",
   "metadata": {},
   "source": [
    "### DETALLES ESTETICOS DEL GRAFICO CON MATPLOT.LIB"
   ]
  },
  {
   "cell_type": "code",
   "execution_count": null,
   "id": "e321f701",
   "metadata": {},
   "outputs": [],
   "source": [
    "plt.title(\"Predicción de ventas Enero - Marzo 2025 (Regresion Lineal)\") # Título del gráfico\n",
    "plt.xlabel(\"Mes\") # Etiqueta del Eje \"x\"\n",
    "plt.ylabel(\"Vemtas\") # etiqueta del eje \"y\"\n",
    "plt.grid(True) # Formato de celdas con bordes\n",
    "plt.legend() # Leyenda para el gráfico\n",
    "plt.tight_layout() #?\n",
    "plt.show() # Mostrar gráfico"
   ]
  }
 ],
 "metadata": {
  "kernelspec": {
   "display_name": "Python 3",
   "language": "python",
   "name": "python3"
  },
  "language_info": {
   "codemirror_mode": {
    "name": "ipython",
    "version": 3
   },
   "file_extension": ".py",
   "mimetype": "text/x-python",
   "name": "python",
   "nbconvert_exporter": "python",
   "pygments_lexer": "ipython3",
   "version": "3.12.6"
  }
 },
 "nbformat": 4,
 "nbformat_minor": 5
}
