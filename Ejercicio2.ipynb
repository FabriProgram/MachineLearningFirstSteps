{
 "cells": [
  {
   "cell_type": "code",
   "execution_count": null,
   "id": "e807b424",
   "metadata": {
    "vscode": {
     "languageId": "plaintext"
    }
   },
   "outputs": [],
   "source": [
    "# INSTALACION DE LIBRERIRIAS CON ALGORTIMOS COMPLEJOS\n",
    "!pip install -q transformers\n",
    "!pip install -q pysentimiento\n",
    "\n",
    "# IMPORTACIONES DE LIBRERIAS DE UTILIDADES\n",
    "from pysentimiento import create_analyzer\n",
    "import pandas as pd\n",
    "import matplotlib.pyplot as plt\n",
    "import seaborn as sns\n",
    "\n",
    "# INVOCAR AL ANALIZADOR DE SENTIMIENTOS EN UNA VARIABLE\n",
    "# Y GENERACION DE COMENTARIOS PARA ANALIZAR \n",
    "analyzer = create_analyzer(task=\"sentiment\", lang=\"es\") # configuración del ANALIZADOR\n",
    "comentarios =[\n",
    "    \"el servicio fue excelente y rápido\",\n",
    "    \"Estoy decepcionado con el producto\",\n",
    "    \"Me encanto la atención\",\n",
    "    \"No volveria a comprar en la tienda\",\n",
    "    \"Todo perfecto, supero mis expectativas\",\n",
    "    \"Buna calidad y buen precio\",\n",
    "    \"El soporte no pudo resolver mi problema\",\n",
    "    \"Estoy feliz con mi compra\",\n",
    "    \"No me gsusto el sericio de postventa\"\n",
    "]\n",
    "\n",
    "# ANALISIS DE LOS COMENTARIO MEDIANTE EL ANALIZADOR Y UN BUCLE\n",
    "resultados = []\n",
    "for comentario in comentarios:\n",
    "    resultado = analyzer.predict(comentario)\n",
    "    resultados.append({\n",
    "        \"comentario\": comentario,\n",
    "        \"Sentimiento\": resultado.output,\n",
    "        \"Probabilidad\": round(resultado.probas[resultado.output], 2)\n",
    "    })\n",
    "\n",
    "# CREACIÓN DE DATA FRAME CON LOS RESULTADOS OBTENIDOS CON PANDAS\n",
    "# Y MOSTRARLOS \n",
    "df_resultados = pd.DataFrame(resultados)\n",
    "print(\"Análisis de sentimientos\")\n",
    "display(df_resultados)\n",
    "\n",
    "# VISUALIZACION USANDO PANDAS Y SEABORN\n",
    "plt.figure(figsize=(6, 4))\n",
    "sns.countplot(data=df_resultados, x=\"Sentimiento\", palette=\"Set2\")\n",
    "plt.title(\"Ditribución de Sentimientos\")\n",
    "plt.ylabel(\"Cantidad de comentarios\")\n",
    "plt.grid(True)\n",
    "plt.tight_layout()\n",
    "plt.show()"
   ]
  }
 ],
 "metadata": {
  "language_info": {
   "name": "python"
  }
 },
 "nbformat": 4,
 "nbformat_minor": 5
}
